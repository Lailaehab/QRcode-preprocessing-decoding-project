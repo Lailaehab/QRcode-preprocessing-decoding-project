{
  "nbformat": 4,
  "nbformat_minor": 0,
  "metadata": {
    "colab": {
      "provenance": [],
      "include_colab_link": true
    },
    "kernelspec": {
      "name": "python3",
      "display_name": "Python 3"
    },
    "language_info": {
      "name": "python"
    }
  },
  "cells": [
    {
      "cell_type": "markdown",
      "metadata": {
        "id": "view-in-github",
        "colab_type": "text"
      },
      "source": [
        "<a href=\"https://colab.research.google.com/github/Lailaehab/QRcode-preprocessing-decoding-project/blob/main/Preprocessing%2Bdecoding(Final_code).ipynb\" target=\"_parent\"><img src=\"https://colab.research.google.com/assets/colab-badge.svg\" alt=\"Open In Colab\"/></a>"
      ]
    },
    {
      "cell_type": "code",
      "execution_count": null,
      "metadata": {
        "id": "Z0ixeaI0mB2s"
      },
      "outputs": [],
      "source": [
        "import cv2\n",
        "import numpy as np\n",
        "import matplotlib.pyplot as plt\n",
        "from google.colab.patches import cv2_imshow"
      ]
    },
    {
      "cell_type": "markdown",
      "source": [
        "## Detect QR and Perspective function"
      ],
      "metadata": {
        "id": "PRzcKsppQHRA"
      }
    },
    {
      "cell_type": "code",
      "source": [
        "def get_corners(gray1):\n",
        "  contours, hierarchy = cv2.findContours(gray1, cv2.RETR_EXTERNAL, cv2.CHAIN_APPROX_SIMPLE)\n",
        "  squares = []\n",
        "\n",
        "  max_area = 0\n",
        "  selected_contour = None\n",
        "  for contour in contours:\n",
        "      perimeter = cv2.arcLength(contour, True)\n",
        "      approx = cv2.approxPolyDP(contour, 0.04 * perimeter, True)\n",
        "\n",
        "      # Check if the polygon has at least 4 vertices\n",
        "      if len(approx) >= 4:\n",
        "          # Calculate the area of the contour\n",
        "          area = cv2.contourArea(contour)\n",
        "          if area > max_area:\n",
        "              max_area = area\n",
        "              selected_contour = approx\n",
        "\n",
        "  # Convert the selected contour to a list of tuples for easier sorting\n",
        "  contour_points = [tuple(point[0]) for point in selected_contour]\n",
        "\n",
        "  # Find extreme points in each direction\n",
        "  top_left = min(contour_points, key=lambda x: sum(x))\n",
        "  top_right = max(contour_points, key=lambda x: (x[0], -x[1]))\n",
        "  bottom_left = min(contour_points, key=lambda x: (x[0], -x[1]))\n",
        "  bottom_right = max(contour_points, key=lambda x: sum(x))\n",
        "\n",
        "  return top_left, top_right, bottom_left, bottom_right, selected_contour"
      ],
      "metadata": {
        "id": "euWQg7S5QK5K"
      },
      "execution_count": null,
      "outputs": []
    },
    {
      "cell_type": "markdown",
      "source": [
        "## Detect QR\n"
      ],
      "metadata": {
        "id": "vFXQBGq6mPZ7"
      }
    },
    {
      "cell_type": "code",
      "source": [
        "def detect_qr(imageGray, imageBGR):\n",
        "  img = imageGray\n",
        "  original = imageBGR\n",
        "\n",
        "  _, binary = cv2.threshold(img, 60, 255, cv2.THRESH_BINARY)\n",
        "\n",
        "  # Apply edge detection method on the thresholded image\n",
        "  edges = cv2.Canny(binary, 40, 150, apertureSize=3)\n",
        "\n",
        "  # This returns an array of r and theta values\n",
        "  lines = cv2. HoughLinesP(edges, 1,np. pi / 180, threshold=30, minLineLength=68, maxLineGap=220)\n",
        "  img_with_lines = original.copy()\n",
        "  if lines is not None:\n",
        "      for line in lines:\n",
        "          x1, y1, x2, y2 = line[0]\n",
        "          cv2.line(img_with_lines, (x1, y1), (x2, y2), (0, 0, 255), 2)\n",
        "\n",
        "  # Display the image with detected lines\n",
        "  img_with_lines_only = np.zeros_like(original)\n",
        "  if lines is not None:\n",
        "      for line in lines:\n",
        "          x1, y1, x2, y2 = line[0]\n",
        "          cv2.line(img_with_lines_only, (x1, y1), (x2, y2), (0, 0, 255), 2)\n",
        "\n",
        "  gray1 = cv2.cvtColor(img_with_lines_only, cv2.COLOR_BGR2GRAY)\n",
        "  # Find contours on the edge-detected image\n",
        "\n",
        "  top_left, top_right, bottom_left, bottom_right, selected_contour = get_corners(gray1)\n",
        "\n",
        "  # Print or use the coordinates as needed\n",
        "  print(\"Top Left:\", top_left)\n",
        "  print(\"Top Right:\", top_right)\n",
        "  print(\"Bottom Left:\", bottom_left)\n",
        "  print(\"Bottom Right:\", bottom_right)\n",
        "\n",
        "\n",
        "  rotated_corners = np.float32([bottom_left, bottom_right, top_left, top_right])\n",
        "\n",
        "\n",
        "  # Draw contours on a new copy of the original image\n",
        "\n",
        "  # Display the image with contours\n",
        "  x, y, w, h = cv2.boundingRect(selected_contour)\n",
        "\n",
        "  # Crop the detected object from the original image\n",
        "  detected_object = original[y:y+h, x:x+w]\n",
        "  # cv2_imshow(detected_object)\n",
        "  # detected_object = cv2.resize(detected_object, (500, 500))\n",
        "  # cv2_imshow(detected_object)\n",
        "  return detected_object"
      ],
      "metadata": {
        "id": "gZgA5HMbFlFH"
      },
      "execution_count": null,
      "outputs": []
    },
    {
      "cell_type": "markdown",
      "source": [
        "## Rotate QR\n"
      ],
      "metadata": {
        "id": "xUxDFsU94nBW"
      }
    },
    {
      "cell_type": "code",
      "source": [
        "def rotate_qr_code(image, shift_x):\n",
        "    \"\"\"\n",
        "    Rotate the QR code in the image based on the detected lines using Hough transform and move the frame to the right.\n",
        "    \"\"\"\n",
        "    edges = cv2.Canny(image, 50, 150, apertureSize=3)\n",
        "    lines = cv2.HoughLines(edges, 1, np.pi / 180, 100)\n",
        "    if lines is None:\n",
        "        print(\"None\")\n",
        "        return image  # Return the original image if no lines are detected\n",
        "    # Compute the angle of tilt\n",
        "    angles = []\n",
        "    for line in lines:\n",
        "        rho, theta = line[0]\n",
        "        angles.append(theta)\n",
        "\n",
        "    aligned = all(abs(np.degrees(theta) % 90) < 10 for theta in angles)  # 10 degrees tolerance\n",
        "\n",
        "    if aligned:\n",
        "        print(\"Rotation not done\")\n",
        "        return image  # Return the original image if QR code is aligned\n",
        "    print(\"Rotation done\")\n",
        "\n",
        "    median_angle = np.median(angles)\n",
        "    #angle_adjustment = np.degrees(median_angle) -180   # subtract 90 to make it clockwise rotation\n",
        "\n",
        "    angle_deg = np.degrees(median_angle)\n",
        "    nearest_90 = 90 * round(angle_deg / 90)\n",
        "    #angle_adjustment = nearest_90 - angle_deg\n",
        "    angle_adjustment = angle_deg - nearest_90\n",
        "\n",
        "    # Rotate the QR code only\n",
        "    height, width = image.shape[:2]\n",
        "    rotation_matrix = cv2.getRotationMatrix2D((width / 2 + shift_x, height / 2), angle_adjustment, 1)\n",
        "\n",
        "    # Apply translation to move the frame to the right\n",
        "    rotation_matrix[0, 2] += shift_x\n",
        "\n",
        "    # Apply replicate padding\n",
        "    pad_size = shift_x\n",
        "    padded_image = cv2.copyMakeBorder(image, 0, 0, pad_size, pad_size, cv2.BORDER_REPLICATE)\n",
        "\n",
        "    # Create a white canvas of the same size as the input image\n",
        "    white_canvas = np.ones_like(image) * 255\n",
        "\n",
        "    # Rotate the image and blend it onto the white canvas with white border\n",
        "    rotated_image = cv2.warpAffine(padded_image, rotation_matrix, (width + pad_size * 2, height), borderMode=cv2.BORDER_CONSTANT, borderValue=(255, 255, 255))\n",
        "    rotated_on_white = cv2.warpAffine(white_canvas, rotation_matrix, (width + pad_size * 2, height), borderMode=cv2.BORDER_CONSTANT, borderValue=(255, 255, 255))\n",
        "\n",
        "    # Mask out the rotated QR code from the white canvas\n",
        "    result = cv2.bitwise_and(rotated_image, rotated_image)\n",
        "\n",
        "    return result"
      ],
      "metadata": {
        "id": "t5yxIC88mKCu"
      },
      "execution_count": null,
      "outputs": []
    },
    {
      "cell_type": "markdown",
      "source": [
        "## Locator box detection"
      ],
      "metadata": {
        "id": "5meWZ9mymbpk"
      }
    },
    {
      "cell_type": "code",
      "source": [
        "def detect_locator_boxes(image):\n",
        "    # Convert the image to grayscale\n",
        "    # gray = cv2.cvtColor(image, cv2.COLOR_BGR2GRAY)\n",
        "\n",
        "\n",
        "    # Use a Gaussian blur to reduce noise\n",
        "    blurred = cv2.GaussianBlur(image, (5, 5), 0)\n",
        "\n",
        "    # Use Canny edge detection to find edges\n",
        "    edges = cv2.Canny(blurred, 50, 150)\n",
        "\n",
        "    # Find contours in the edge-detected image\n",
        "    contours, _ = cv2.findContours(edges.copy(), cv2.RETR_EXTERNAL, cv2.CHAIN_APPROX_SIMPLE)\n",
        "\n",
        "    # Create a copy of the input image to draw contours on\n",
        "    image_with_contours = image.copy()\n",
        "\n",
        "    # Filter contours based on area to find locator boxes\n",
        "    locator_boxes = []\n",
        "    for contour in contours:\n",
        "        area = cv2.contourArea(contour)\n",
        "        # print(area)\n",
        "        if 50000 < area < 100000:  # Adjust this threshold based on your QR code size\n",
        "            # Get the bounding box of the contour\n",
        "            x, y, w, h = cv2.boundingRect(contour)\n",
        "            locator_boxes.append((x, y, w, h))\n",
        "            # Draw contours on the image copy\n",
        "            # cv2.drawContours(image_with_contours, [contour], -1, (0, 255, 0), 2)\n",
        "\n",
        "    return image_with_contours, locator_boxes\n",
        "\n",
        "def is_qr_code_upside_down(locator_boxes):\n",
        "    # Sort the locator boxes based on their x-coordinates\n",
        "    sorted_boxes_y = sorted(locator_boxes, key=lambda box: box[1])\n",
        "    # Check if the top-left locator box is above the top-right locator box\n",
        "    # sort y\n",
        "    if abs(sorted_boxes_y[0][1] - sorted_boxes_y[1][1]) < 8:\n",
        "        # Good\n",
        "        return False\n",
        "    else:\n",
        "        # Bad\n",
        "        return True\n",
        "\n",
        "def is_qr_code_flipped(locater_boxes):\n",
        "  sorted_boxes_x = sorted(locater_boxes, key=lambda box: box[0])\n",
        "  if abs(sorted_boxes_x[0][0] - sorted_boxes_x[1][0]) < 8:\n",
        "      # Good\n",
        "      return False\n",
        "  else:\n",
        "      # Bad\n",
        "      return True"
      ],
      "metadata": {
        "id": "qljmPd1Ameum"
      },
      "execution_count": null,
      "outputs": []
    },
    {
      "cell_type": "markdown",
      "source": [
        "## rotate upside-down 180"
      ],
      "metadata": {
        "id": "ygvHE4eVmmSv"
      }
    },
    {
      "cell_type": "code",
      "source": [
        "def rotate_upside_down(image):\n",
        "# Check if QR code is upside down based on locator boxes\n",
        "  image, locator_boxes = detect_locator_boxes(image)\n",
        "  if locator_boxes:\n",
        "      upside_down = is_qr_code_upside_down(locator_boxes)\n",
        "      #flipped = is_qr_code_flipped(locator_boxes)\n",
        "      if upside_down:\n",
        "          print(\"Image is rotated upside down\")\n",
        "          rotated_image = cv2.rotate(image, cv2.ROTATE_180)\n",
        "         # cv2_imshow(rotated_image)\n",
        "          return rotated_image\n",
        "      else:\n",
        "          print(\"Image is not rotated upside down\")\n",
        "          return image"
      ],
      "metadata": {
        "id": "fzT6ZvIDmpIG"
      },
      "execution_count": null,
      "outputs": []
    },
    {
      "cell_type": "markdown",
      "source": [
        "## Mirror"
      ],
      "metadata": {
        "id": "tICEvFbLmts4"
      }
    },
    {
      "cell_type": "code",
      "source": [
        "def flip_image(image):\n",
        "    image, locator_boxes = detect_locator_boxes(image)\n",
        "    if locator_boxes:\n",
        "          flipped = is_qr_code_flipped(locator_boxes)\n",
        "          if flipped:\n",
        "            print(\"QR code is flipped.\")\n",
        "            mirrored_image = cv2.flip(image, 1)\n",
        "            return mirrored_image\n",
        "          else:\n",
        "            print(\"QR code is not flipped.\")\n",
        "            return image"
      ],
      "metadata": {
        "id": "h6lnYQJ3mutz"
      },
      "execution_count": null,
      "outputs": []
    },
    {
      "cell_type": "markdown",
      "source": [
        "## Invert colors"
      ],
      "metadata": {
        "id": "sQs11FW1mxwr"
      }
    },
    {
      "cell_type": "code",
      "source": [
        "def check_inversion_needed(image):\n",
        "    \"\"\"\n",
        "    Detects if inversion of colors in a QR code might be needed based on mean intensity.\n",
        "\n",
        "    Args:\n",
        "    - image_path: Path to the QR code image file.\n",
        "\n",
        "    Returns:\n",
        "    - True if inversion might be needed, False otherwise.\n",
        "    \"\"\"\n",
        "    # Load the image\n",
        "    # img = cv2.cvtColor(image, cv2.COLOR_BGR2GRAY)\n",
        "\n",
        "    # Calculate the mean pixel intensity of the QR code region\n",
        "    mean_intensity = image.mean()\n",
        "\n",
        "    # If mean intensity is greater than 127, no inversion is needed\n",
        "    if mean_intensity > 127:\n",
        "        print(\"Inversion not done\")\n",
        "        return image\n",
        "    else:\n",
        "      img = 255 - image\n",
        "      print(\"Inversion done\")\n",
        "      return img\n",
        "\n",
        "def invert_qr_if_needed_opencv(image):\n",
        "    # Load the image in grayscale\n",
        "   # img = cv2.imread(qr_image_path, cv2.IMREAD_GRAYSCALE)\n",
        "\n",
        "    img = cv2.cvtColor(image, cv2.COLOR_BGR2GRAY)\n",
        "    # Check the corners of the image to determine the predominant background color\n",
        "    height, width = img.shape\n",
        "    corner_pixels = [\n",
        "        img[0, 0], img[width - 1, 0],\n",
        "        img[0, height - 1], img[width - 1, height - 1]\n",
        "    ]\n",
        "\n",
        "    # Count how many corner pixels are dark\n",
        "    dark_count = sum(1 for p in corner_pixels if p < 128)  # Threshold for dark pixels\n",
        "\n",
        "    # Invert the image if most corner pixels are dark\n",
        "    if dark_count > 2:\n",
        "        img = 255 - img  # Invert the image\n",
        "\n",
        "    return img"
      ],
      "metadata": {
        "id": "AjT0CT2ymzBR"
      },
      "execution_count": null,
      "outputs": []
    },
    {
      "cell_type": "markdown",
      "source": [
        "## preprocessing"
      ],
      "metadata": {
        "id": "DqM_K-dQnBeq"
      }
    },
    {
      "cell_type": "code",
      "source": [
        "def preprocess_image(image):\n",
        "    def brightness_adjustment(image):\n",
        "        \"\"\"\n",
        "        Preprocess an input image by adjusting intensity, contrast, and brightness,\n",
        "        and applying morphological operations if needed.\n",
        "\n",
        "        Returns:\n",
        "        - preprocessed_image (numpy.ndarray): Preprocessed image.\n",
        "        \"\"\"\n",
        "        # Calculate mean intensity and standard deviation\n",
        "        # image = cv2.equalizeHist(image)\n",
        "        # cv2_imshow(image)\n",
        "        mean_intensity = np.mean(image)\n",
        "        std_dev_intensity = np.std(image)\n",
        "\n",
        "        # Adjust contrast\n",
        "        target_std_dev = 50  # Target standard deviation for contrast adjustment\n",
        "        contrast_ratio = target_std_dev / std_dev_intensity\n",
        "        adjusted_image = image * contrast_ratio\n",
        "\n",
        "        # Adjust brightness\n",
        "        target_mean_intensity = 127  # Target mean intensity for brightness adjustment\n",
        "        brightness_offset = target_mean_intensity - mean_intensity\n",
        "        adjusted_image += brightness_offset\n",
        "\n",
        "        # Clip intensity values to [0, 255]\n",
        "        adjusted_image = np.clip(adjusted_image, 0, 255)\n",
        "\n",
        "        # Convert adjusted image back to uint8 datatype\n",
        "        adjusted_image = adjusted_image.astype(np.uint8)\n",
        "\n",
        "        return adjusted_image\n",
        "\n",
        "    # Apply brightness adjustment\n",
        "    # _, adjusted_image = cv2.threshold(adjusted_image, 50, 255, cv2.THRESH_BINARY)\n",
        "    adjusted_image = brightness_adjustment(image)\n",
        "\n",
        "    # Apply adaptive thresholding\n",
        "    # adjusted_image= cv2.cvtColor(adjusted_image, cv2.COLOR_BGR2GRAY)\n",
        "    adjusted_image = cv2.adaptiveThreshold(adjusted_image, 255, cv2.ADAPTIVE_THRESH_MEAN_C, cv2.THRESH_BINARY, 199, 5)\n",
        "\n",
        "    # Apply morphological closing\n",
        "    kernel1 = np.ones((14, 14), np.uint8)\n",
        "    adjusted_image = cv2.morphologyEx(adjusted_image, cv2.MORPH_CLOSE, kernel1)\n",
        "\n",
        "    return adjusted_image"
      ],
      "metadata": {
        "id": "_oUuDLcNm5_C"
      },
      "execution_count": null,
      "outputs": []
    },
    {
      "cell_type": "markdown",
      "source": [
        "## Periodic Noise"
      ],
      "metadata": {
        "id": "WeYd7nDUnH13"
      }
    },
    {
      "cell_type": "code",
      "source": [
        "def periodic_noise(image):\n",
        "  def find_peaks(magnitude_spectrum, threshold):\n",
        "    # Threshold the magnitude spectrum\n",
        "    thresholded_spectrum = magnitude_spectrum > threshold\n",
        "\n",
        "    # Find peaks in the thresholded spectrum\n",
        "    peaks = np.argwhere(thresholded_spectrum)\n",
        "\n",
        "    return peaks\n",
        "\n",
        "  def detect_periodic_noise(peaks):\n",
        "    \"\"\"\n",
        "    Detect periodic noise based on peaks in the magnitude spectrum.\n",
        "\n",
        "    Args:\n",
        "    - peaks : Array of peak coordinates.\n",
        "\n",
        "    Returns:\n",
        "    - is_periodic (bool): True if periodic noise is detected, False otherwise.\n",
        "    \"\"\"\n",
        "    if len(peaks) < 3:\n",
        "        return False  # Need at least 3 peaks to form a pattern\n",
        "\n",
        "    peak_distances = np.diff(peaks[:, 0])  # Differences between peak intensities along the vertical axis\n",
        "\n",
        "    # Check if there is a repeating pattern in peak distances\n",
        "    first_distance = peak_distances[0]\n",
        "    is_periodic = True\n",
        "    for distance in peak_distances[1:]:\n",
        "        if distance != first_distance:\n",
        "            is_periodic = False\n",
        "            break\n",
        "\n",
        "    return is_periodic\n",
        "\n",
        "  def notch_reject_filter(image, peaks):\n",
        "    # Calculate the Fourier transform of the image\n",
        "    spec_orig = np.fft.fft2(image)\n",
        "    spec_img = np.fft.fftshift(spec_orig)\n",
        "\n",
        "    # Apply notch filter to remove specified frequencies\n",
        "    for peak in peaks:\n",
        "        n, j = peak\n",
        "        spec_img[n, j] = 0\n",
        "\n",
        "    # Reconstruct the image using inverse Fourier transform\n",
        "    filtered_image = np.real(np.fft.ifft2(np.fft.ifftshift(spec_img)))\n",
        "    return filtered_image\n",
        "\n",
        "  spec_orig = np.fft.fft2(image)\n",
        "  spec_img = np.fft.fftshift(spec_orig)\n",
        "  magnitude_spectrum = np.log(np.abs(spec_img) + 1)\n",
        "\n",
        "# Find peaks in the magnitude spectrum\n",
        "  peaks = find_peaks(magnitude_spectrum, threshold=16)\n",
        "\n",
        "# Detect periodic noise\n",
        "  is_periodic_noise = detect_periodic_noise(peaks)\n",
        "  print(\"Periodic noise\", is_periodic_noise)\n",
        "\n",
        "# Apply notch filter to remove periodic noise only if it exists\n",
        "  if is_periodic_noise:\n",
        "    filtered_image = notch_reject_filter(image, peaks)\n",
        "  else:\n",
        "    filtered_image = image  # If no periodic noise, retain original image\n",
        "\n",
        "\n",
        "# Display the filtered image\n",
        "  # plt.figure(figsize=(8, 6))\n",
        "  # plt.imshow(filtered_image, cmap='gray')\n",
        "  # plt.title('Filtered Image')\n",
        "  # plt.axis('off')\n",
        "  # plt.show()\n",
        "  return filtered_image"
      ],
      "metadata": {
        "id": "4Hwxy1cZnKh6"
      },
      "execution_count": null,
      "outputs": []
    },
    {
      "cell_type": "markdown",
      "source": [
        "## salt and noise"
      ],
      "metadata": {
        "id": "1rbAV1pvnOgg"
      }
    },
    {
      "cell_type": "code",
      "source": [
        "def detect_salt_and_pepper_noise(image, threshold=0.02, kernel_size=3):\n",
        "    # Convert image to grayscale\n",
        "    # image = cv2.cvtColor(image, cv2.COLOR_BGR2GRAY)\n",
        "\n",
        "    # Apply median filter to the image\n",
        "    median_image = cv2.medianBlur(image, kernel_size)\n",
        "\n",
        "    # Compute absolute difference between original and median filtered image\n",
        "    diff_image = cv2.absdiff(image, median_image)\n",
        "\n",
        "    # Compute threshold mask based on the threshold value\n",
        "    _, mask = cv2.threshold(diff_image, 255 * threshold, 255, cv2.THRESH_BINARY)\n",
        "\n",
        "    # Count the number of white pixels in the mask\n",
        "    num_white_pixels = np.sum(mask == 255)\n",
        "\n",
        "    # Calculate the percentage of white pixels in the mask\n",
        "    height, width = mask.shape\n",
        "    percentage_white_pixels = (num_white_pixels / (height * width)) * 100\n",
        "\n",
        "    # Determine if salt and pepper noise is present based on the percentage of white pixels\n",
        "    if percentage_white_pixels > threshold * 100:\n",
        "        print(\"Salt pepper\", \"True\")\n",
        "        return True\n",
        "    else:\n",
        "        print(\"Salt pepper\", \"False\")\n",
        "        return False"
      ],
      "metadata": {
        "id": "Yd9pbPS1nQSy"
      },
      "execution_count": null,
      "outputs": []
    },
    {
      "cell_type": "markdown",
      "source": [
        "## Shift Pixel"
      ],
      "metadata": {
        "id": "VUEe-AyUiHys"
      }
    },
    {
      "cell_type": "code",
      "source": [
        "def shifting_pixel(binary_qr_code):\n",
        "  # Read the image in grayscale\n",
        "  # qr_code = cv2.imread(image_path, cv2.IMREAD_GRAYSCALE)\n",
        "\n",
        "  # # Convert image to binary (black and white)\n",
        "  # _, binary_qr_code = cv2.threshold(qr_code, 0, 255, cv2.THRESH_BINARY + cv2.THRESH_OTSU)\n",
        "\n",
        "  # Initialize the aligned QR code array\n",
        "  aligned_qr_code_full = np.ones_like(binary_qr_code) * 255\n",
        "\n",
        "  # Determine the expected x-coordinate of the alignment pattern from the left\n",
        "  expected_positions = []\n",
        "  for y in range(binary_qr_code.shape[0] // 2):  # only take the top half\n",
        "    row = binary_qr_code[y, :]\n",
        "    first_black_pixel_index = np.where(row == 0)[0]\n",
        "    if first_black_pixel_index.size > 0:\n",
        "        expected_positions.append(first_black_pixel_index[0])\n",
        "  expected_x = int(np.median(expected_positions))\n",
        "\n",
        "  print(\"expected_x\", expected_x)\n",
        "  if expected_x != 19:\n",
        "    return binary_qr_code\n",
        "  #expected_x = int(np.median(expected_positions))\n",
        "\n",
        "  # Determine the expected x-coordinate of the alignment pattern from the right\n",
        "  expected_positions1 = []\n",
        "  for y in range(binary_qr_code.shape[0] // 2):  # only take the top half\n",
        "    row = binary_qr_code[y, ::-1]  # flip the row to process from right to left\n",
        "    first_black_pixel_index = np.where(row == 0)[0]\n",
        "    if first_black_pixel_index.size > 0:\n",
        "        expected_positions1.append(first_black_pixel_index[0])\n",
        "  expected_x_from_right = int(np.median(expected_positions1))\n",
        "\n",
        "  # Align each row based on the expected x-coordinate\n",
        "  for y, row in enumerate(binary_qr_code):\n",
        "      first_black_pixel_index = np.where(row == 0)[0]\n",
        "      if first_black_pixel_index.size > 0:\n",
        "          shift_amount = expected_x - first_black_pixel_index[0]\n",
        "          if abs(shift_amount) > 100:\n",
        "              row_reversed = row[::-1]  # process from right to left\n",
        "              first_black_pixel_index_reversed = np.where(row_reversed == 0)[0]\n",
        "              if first_black_pixel_index_reversed.size > 0:\n",
        "                  shift_amount = expected_x_from_right - first_black_pixel_index_reversed[0]\n",
        "                  if abs(shift_amount) > 20:\n",
        "                      shift_amount = 0\n",
        "                  aligned_qr_code_full[y] = np.roll(row, -shift_amount)\n",
        "          else:\n",
        "              aligned_qr_code_full[y] = np.roll(row, shift_amount)\n",
        "\n",
        "  return aligned_qr_code_full\n",
        "\n"
      ],
      "metadata": {
        "id": "H-KYgGPPoByo"
      },
      "execution_count": null,
      "outputs": []
    },
    {
      "cell_type": "markdown",
      "source": [
        "## perspective"
      ],
      "metadata": {
        "id": "vZxWnLyz7YGp"
      }
    },
    {
      "cell_type": "code",
      "source": [
        "def perspective(imageGray, imageBGR):\n",
        "  img = imageGray\n",
        "  original = imageBGR\n",
        "\n",
        "  _, binary = cv2.threshold(img, 60, 255, cv2.THRESH_BINARY)\n",
        "\n",
        "  # Apply edge detection method on the thresholded image\n",
        "  edges = cv2.Canny(binary, 40, 150, apertureSize=3)\n",
        "\n",
        "  # This returns an array of r and theta values\n",
        "  lines = cv2. HoughLinesP(edges, 1,np. pi / 180, threshold=30, minLineLength=68, maxLineGap=220)\n",
        "  img_with_lines = original.copy()\n",
        "  if lines is not None:\n",
        "      for line in lines:\n",
        "          x1, y1, x2, y2 = line[0]\n",
        "          cv2.line(img_with_lines, (x1, y1), (x2, y2), (0, 0, 255), 2)\n",
        "\n",
        "  # Display the image with detected lines\n",
        "  img_with_lines_only = np.zeros_like(original)\n",
        "  if lines is not None:\n",
        "      for line in lines:\n",
        "          x1, y1, x2, y2 = line[0]\n",
        "          cv2.line(img_with_lines_only, (x1, y1), (x2, y2), (0, 0, 255), 2)\n",
        "\n",
        "  gray1 = cv2.cvtColor(img_with_lines_only, cv2.COLOR_BGR2GRAY)\n",
        "  # Find contours on the edge-detected image\n",
        "\n",
        "  top_left, top_right, bottom_left, bottom_right, selected_contour = get_corners(gray1)\n",
        "\n",
        "  # print(\"PERSPECTIVE\")\n",
        "  # print(\"Top Left:\", top_left)\n",
        "  # print(\"Top Right:\", top_right)\n",
        "  # print(\"Bottom Left:\", bottom_left)\n",
        "  # print(\"Bottom Right:\", bottom_right)\n",
        "\n",
        "  a = abs((float(top_left[0]) - float(top_left[1])))\n",
        "  b = abs(float(bottom_right[0]) - float(bottom_right[1]))\n",
        "  if abs(a < 20) or abs(b < 20):\n",
        "    print(\"Perspective not done\")\n",
        "    return imageGray, False\n",
        "  print(\"Perspective done\")\n",
        "\n",
        "  selected_contour_sorted = selected_contour.reshape(-1, 2)\n",
        "  selected_contour_sorted = selected_contour_sorted[np.argsort(selected_contour_sorted[:, 0])]\n",
        "\n",
        "  # Determine top-left and bottom-left vertices\n",
        "  if selected_contour_sorted[0][1] < selected_contour_sorted[1][1]:\n",
        "      top_left = selected_contour_sorted[0]\n",
        "      bottom_left = selected_contour_sorted[1]\n",
        "  else:\n",
        "      top_left = selected_contour_sorted[1]\n",
        "      bottom_left = selected_contour_sorted[0]\n",
        "\n",
        "  # Determine top-right and bottom-right vertices\n",
        "  if selected_contour_sorted[2][1] < selected_contour_sorted[3][1]:\n",
        "      top_right = selected_contour_sorted[2]\n",
        "      bottom_right = selected_contour_sorted[3]\n",
        "  else:\n",
        "      top_right = selected_contour_sorted[3]\n",
        "      bottom_right = selected_contour_sorted[2]\n",
        "\n",
        "  if abs(bottom_right[0] - bottom_right[1]) < 60:\n",
        "    bottom_right = (max(bottom_right), max(bottom_right))\n",
        "\n",
        "  if abs(top_left[0] - top_left[1]) < 60:\n",
        "    top_left = (min(top_left), min(top_left))\n",
        "\n",
        "\n",
        "  rotated_corners = np.float32([bottom_left, bottom_right, top_left, top_right])\n",
        "\n",
        "  # Define the corrected region (adjust dimensions as needed)\n",
        "  new_corners = np.float32([bottom_left, [top_right[0], bottom_left[1]], [bottom_left[0], top_right[1]], top_right])\n",
        "\n",
        "\n",
        "  # Compute the perspective transformation matrix\n",
        "  perspective_matrix = cv2.getPerspectiveTransform(rotated_corners, new_corners)\n",
        "\n",
        "  # Apply the perspective transformation to the image\n",
        "  corrected_image = cv2.warpPerspective(original, perspective_matrix, (1011, 1011))\n",
        "  return corrected_image, True"
      ],
      "metadata": {
        "id": "wkYM4-WOpfhW"
      },
      "execution_count": null,
      "outputs": []
    },
    {
      "cell_type": "markdown",
      "source": [
        "## Remove Salt and Pepper"
      ],
      "metadata": {
        "id": "a4vymevxPdww"
      }
    },
    {
      "cell_type": "code",
      "source": [
        "def remove_salt_and_pepper_noise(image_salt, kernel_size=21):\n",
        "\n",
        "\n",
        "    kernel2 = cv2.getStructuringElement(cv2.MORPH_RECT, (5, 5))\n",
        "    kernel3 = cv2.getStructuringElement(cv2.MORPH_RECT, (21, 21))\n",
        "    kernel4 = cv2.getStructuringElement(cv2.MORPH_RECT, (11, 11))\n",
        "\n",
        "    denoised_image = cv2.blur(image_salt, (11, 11))\n",
        "\n",
        "    _, denoised_image = cv2.threshold(denoised_image, 125, 255, cv2.THRESH_BINARY)\n",
        "\n",
        "\n",
        "    kernel = cv2.getStructuringElement(cv2.MORPH_RECT, (5, 5))\n",
        "\n",
        "    denoised_image = cv2.medianBlur(denoised_image, kernel_size)\n",
        "\n",
        "    denoised_image = cv2.morphologyEx(denoised_image, cv2.MORPH_CLOSE, kernel4, iterations=2)\n",
        "\n",
        "    # Apply closing to enhance the remaining features of the QR code\n",
        "\n",
        "    kernel2 = cv2.getStructuringElement(cv2.MORPH_RECT, (7, 7))\n",
        "    kernel3 = cv2.getStructuringElement(cv2.MORPH_RECT, (21, 21))\n",
        "    kernel4 = cv2.getStructuringElement(cv2.MORPH_RECT, (17, 17))\n",
        "\n",
        "\n",
        "    denoised_image = cv2.morphologyEx(denoised_image, cv2.MORPH_OPEN, kernel2, iterations=4)\n",
        "\n",
        "    # img = cv2.resize(denoised_image, (100,100))\n",
        "\n",
        "    return denoised_image"
      ],
      "metadata": {
        "id": "-GNvUyJIsJXM"
      },
      "execution_count": null,
      "outputs": []
    },
    {
      "cell_type": "markdown",
      "source": [
        "## Blur"
      ],
      "metadata": {
        "id": "Vn4MVDczdzwb"
      }
    },
    {
      "cell_type": "code",
      "source": [
        "def is_blurred(image, threshold=5):\n",
        "    # Compute the Laplacian of the image\n",
        "    laplacian = cv2.Laplacian(image, cv2.CV_64F).var()\n",
        "    # print(\"Laplacian\", laplacian)\n",
        "\n",
        "    # Check if the variance is below the threshold\n",
        "    if 1.5 < laplacian < 3:\n",
        "        print('Blurred True')\n",
        "        return True\n",
        "    else:\n",
        "        print('Blurred False')\n",
        "        return False"
      ],
      "metadata": {
        "id": "DZ444T0Sd1hn"
      },
      "execution_count": null,
      "outputs": []
    },
    {
      "cell_type": "code",
      "source": [
        "def remove_blur(image):\n",
        "\n",
        "  # Apply a sharpening filter\n",
        "  sharpening_kernel = np.array([[-3, -3, -3],\n",
        "                                [-3, 32, -3],\n",
        "                                [-3, -3, -3]])\n",
        "  sharpened = cv2.filter2D(image, -1, sharpening_kernel)\n",
        "\n",
        "\n",
        "  # Apply adaptive thresholding to create a binary image\n",
        "  _, binary = cv2.threshold(sharpened, 170, 255, cv2.THRESH_BINARY)\n",
        "\n",
        "  kernel = cv2.getStructuringElement(cv2.MORPH_RECT, (8, 8))\n",
        "\n",
        "  dilated = cv2.erode(binary, kernel, iterations=1)\n",
        "\n",
        "  kernel2 = cv2.getStructuringElement(cv2.MORPH_RECT, (1, 1))\n",
        "\n",
        "  kernel3 = cv2.getStructuringElement(cv2.MORPH_RECT, (10, 10))\n",
        "\n",
        "\n",
        "\n",
        "  dilated = cv2.morphologyEx(dilated, cv2.MORPH_CLOSE, kernel3, iterations=1)\n",
        "\n",
        "  dilated = cv2.erode(dilated, kernel, iterations=2)\n",
        "\n",
        "  return dilated"
      ],
      "metadata": {
        "id": "XrWl-4abJ9kZ"
      },
      "execution_count": null,
      "outputs": []
    },
    {
      "cell_type": "markdown",
      "source": [
        "## Histrogram Equilization"
      ],
      "metadata": {
        "id": "KM2l7x32b58o"
      }
    },
    {
      "cell_type": "code",
      "source": [
        "def check_and_equalize(image):\n",
        "    gray = image\n",
        "    # Compute histogram\n",
        "    hist, bins = np.histogram(gray.flatten(), 256, [0,256])\n",
        "\n",
        "    # Calculate cumulative distribution function (CDF)\n",
        "    cdf = hist.cumsum()\n",
        "    cdf_normalized = cdf * hist.max() / cdf.max()\n",
        "\n",
        "    # Check if histogram is skewed\n",
        "    spread = np.diff(cdf_normalized)\n",
        "    spread_mean = np.mean(spread)\n",
        "    print(spread_mean)\n",
        "    if  1300 < spread_mean < 2200:\n",
        "        print(\"Image may benefit from histogram equalization\")\n",
        "\n",
        "        # Apply histogram equalization\n",
        "        equalized = cv2.equalizeHist(gray)\n",
        "\n",
        "        # If image was color, convert back to color\n",
        "        if len(image.shape) == 3:\n",
        "            equalized = cv2.cvtColor(equalized, cv2.COLOR_GRAY2BGR)\n",
        "\n",
        "        return equalized\n",
        "    else:\n",
        "        print(\"Histogram is already well spread\")\n",
        "        return image"
      ],
      "metadata": {
        "id": "Zde-4Bylb9Lj"
      },
      "execution_count": null,
      "outputs": []
    },
    {
      "cell_type": "markdown",
      "source": [
        "## Opening and Closing"
      ],
      "metadata": {
        "id": "6SFXkLSteBuA"
      }
    },
    {
      "cell_type": "code",
      "source": [
        "def openClose(image):\n",
        "  final= cv2.adaptiveThreshold(image, 255, cv2.ADAPTIVE_THRESH_MEAN_C,\n",
        "                                            cv2.THRESH_BINARY, 199, 5)\n",
        "  kernel1 = np.ones((30, 20), np.uint8)\n",
        "  denoised_image = cv2.morphologyEx(final, cv2.MORPH_OPEN, kernel1)\n",
        "  kernel = np.ones((6, 6), np.uint8)\n",
        "  denoised_image = cv2.morphologyEx(denoised_image, cv2.MORPH_CLOSE, kernel)\n",
        "  kernel2 = np.ones((44, 44), np.uint8)\n",
        "  denoised_image = cv2.morphologyEx(denoised_image, cv2.MORPH_OPEN, kernel2)\n",
        "\n",
        "  return denoised_image"
      ],
      "metadata": {
        "id": "vRg5hJlqeKEa"
      },
      "execution_count": null,
      "outputs": []
    },
    {
      "cell_type": "markdown",
      "source": [
        "## Alphanumeric Decoding"
      ],
      "metadata": {
        "id": "P5sUGgBuufdx"
      }
    },
    {
      "cell_type": "code",
      "source": [
        "def alphanumeric_decoding(img):\n",
        "    # Apply thresholding to preprocess the img\n",
        "    _, thresh_img = cv2.threshold(img, 0, 255, cv2.THRESH_BINARY + cv2.THRESH_OTSU)\n",
        "\n",
        "    # Find contours in the thresholded img\n",
        "    contours, _ = cv2.findContours(thresh_img, cv2.RETR_EXTERNAL, cv2.CHAIN_APPROX_SIMPLE)\n",
        "\n",
        "    # Iterate through the contours and filter alphanumeric characters based on aspect ratio and area\n",
        "    for contour in contours:\n",
        "        x, y, w, h = cv2.boundingRect(contour)\n",
        "        aspect_ratio = w / h\n",
        "        area = cv2.contourArea(contour)\n",
        "        if aspect_ratio > 0.2 and aspect_ratio < 5 and area > 100:\n",
        "            # Draw bounding boxes around the alphanumeric characters\n",
        "            cv2.rectangle(img, (x, y), (x + w, y + h), (0, 255, 0), 2)\n",
        "\n",
        "    return img"
      ],
      "metadata": {
        "id": "0loKZOW5ujWx"
      },
      "execution_count": null,
      "outputs": []
    },
    {
      "cell_type": "markdown",
      "source": [
        "## After preprocessing"
      ],
      "metadata": {
        "id": "gQFRAAyogMEG"
      }
    },
    {
      "cell_type": "code",
      "source": [
        "def after_preprocessing(image):\n",
        "  blurred = cv2.GaussianBlur(image, (7, 7), 0)\n",
        "\n",
        "  # Applying threshold\n",
        "  threshold = cv2.threshold(blurred, 0, 255,\n",
        "      cv2.THRESH_BINARY_INV | cv2.THRESH_OTSU)[1]\n",
        "\n",
        "  # Apply the Component analysis function\n",
        "  analysis = cv2.connectedComponentsWithStats(threshold,\n",
        "                                              4,\n",
        "                                              cv2.CV_32S)\n",
        "  (totalLabels, label_ids, values, centroid) = analysis\n",
        "\n",
        "  # Initialize a new image to store\n",
        "  # all the output components\n",
        "  output = np.zeros(image.shape, dtype=\"uint8\")\n",
        "\n",
        "  # Loop through each component\n",
        "  for i in range(1, totalLabels):\n",
        "\n",
        "        # Area of the component\n",
        "      area = values[i, cv2.CC_STAT_AREA]\n",
        "\n",
        "      if (area > 0) and (area < 300):\n",
        "          componentMask = (label_ids == i).astype(\"uint8\") * 255\n",
        "          output = cv2.bitwise_or(output, componentMask)\n",
        "\n",
        "  # output =255-output\n",
        "  final=255 -image\n",
        "  final2=final-output\n",
        "  final2=255 -final2\n",
        "  kernel = np.ones((5,  1), np.uint8)\n",
        "  final2 = cv2.dilate(final2, kernel, iterations=1)\n",
        "  final2 = cv2.erode(final2, kernel, iterations=1)\n",
        "\n",
        "  return final2"
      ],
      "metadata": {
        "id": "ZxoDSfTSgLeQ"
      },
      "execution_count": null,
      "outputs": []
    },
    {
      "cell_type": "markdown",
      "source": [
        "## All Images"
      ],
      "metadata": {
        "id": "tZ3XDkdsLN1h"
      }
    },
    {
      "cell_type": "code",
      "source": [
        "all_images = [\n",
        "    '/content/01-Getting-started.png',\n",
        "    '/content/02-Matsawar-3edel-ya3am.png',\n",
        "    '/content/03-Leffy-bina-ya-donya.png',\n",
        "    '/content/04-Black-mirror.png',\n",
        "    '/content/05-Caesar-cipher.png',\n",
        "    '/content/06-Railfence-cipher.png',\n",
        "    # '/content/07-THE-MIGHTY-FINGER.png',\n",
        "    '/content/08-Compresso-Espresso.png',\n",
        "    '/content/09-My-phone-fell-while-taking-this-one-...-or-did-it.png',\n",
        "    '/content/10-Gone-With-The-Wind.png',\n",
        "    '/content/11-weewooweewooweewoo.png',\n",
        "    '/content/12-mal7-w-felfel.png',\n",
        "    '/content/13-2el-noor-2ata3.png',\n",
        "]"
      ],
      "metadata": {
        "id": "q9g53Ha6LQB7"
      },
      "execution_count": null,
      "outputs": []
    },
    {
      "cell_type": "markdown",
      "source": [
        "## Run Preprocessing"
      ],
      "metadata": {
        "id": "EN3nQGn8nUuI"
      }
    },
    {
      "cell_type": "code",
      "source": [
        "def Preprocessing(imageGray, perspectiveDone):\n",
        "\n",
        "\n",
        "  imageGray = cv2.cvtColor(imageGray, cv2.COLOR_BGR2GRAY)\n",
        "\n",
        "  saltpepper=detect_salt_and_pepper_noise(imageGray)\n",
        "  if saltpepper:\n",
        "    imageGray=remove_salt_and_pepper_noise(imageGray)\n",
        "\n",
        "  imageGray=periodic_noise(imageGray)\n",
        "\n",
        "  blurred=is_blurred(imageGray)\n",
        "  if blurred:\n",
        "    imageGray=remove_blur(imageGray)\n",
        "\n",
        "  try:\n",
        "    imageGray=check_and_equalize(imageGray)\n",
        "  except:\n",
        "    print(\"HISTOGRAM EQUILIZATION EXCEPTION PASSED\")\n",
        "\n",
        "  imageGray=preprocess_image(imageGray)\n",
        "  imageGray=check_inversion_needed(imageGray)\n",
        "\n",
        "  _, locator_boxes = detect_locator_boxes(imageGray)\n",
        "\n",
        "  oldImg = imageGray\n",
        "  try:\n",
        "    if len(locator_boxes) == 3:\n",
        "      imageBGR = cv2.cvtColor(imageGray, cv2.COLOR_GRAY2BGR)\n",
        "      imageGray, perspectiveDone=perspective(imageGray, imageBGR)\n",
        "      print(perspectiveDone)\n",
        "\n",
        "      imageGray=rotate_upside_down(imageGray)\n",
        "      imageGray=flip_image(imageGray)\n",
        "\n",
        "      imageRGB = cv2.cvtColor(imageGray, cv2.COLOR_BGR2RGB)\n",
        "      image=detect_qr(imageGray, imageRGB)\n",
        "      imageGray = cv2.cvtColor(image, cv2.COLOR_BGR2GRAY)\n",
        "      # imageGray=rotate_qr_code(imageGray, 0)\n",
        "  except:\n",
        "    print(\"EXCEPTION\")\n",
        "    return oldImg, perspectiveDone\n",
        "\n",
        "  return imageGray, perspectiveDone\n",
        "\n",
        "perspectiveDone = False\n",
        "image=cv2.imread(\"/content/04-Black-mirror.png\")\n",
        "\n",
        "image, perspectiveDone=Preprocessing(image, perspectiveDone)\n",
        "image=shifting_pixel(image)\n",
        "image = cv2.resize(image, (500, 500))\n",
        "\n",
        "if not perspectiveDone:\n",
        "  # print(\"ENTERED\")\n",
        "  image = after_preprocessing(image)\n",
        "\n",
        "cv2_imshow(image)"
      ],
      "metadata": {
        "colab": {
          "base_uri": "https://localhost:8080/",
          "height": 777
        },
        "id": "zO_3R-ubnXKt",
        "outputId": "50d4d405-6cbd-4bbc-8141-b216c55cbf1a"
      },
      "execution_count": null,
      "outputs": [
        {
          "output_type": "stream",
          "name": "stdout",
          "text": [
            "Salt pepper False\n",
            "Periodic noise False\n",
            "Blurred False\n",
            "997.1555103004816\n",
            "Histogram is already well spread\n",
            "Inversion done\n",
            "Perspective not done\n",
            "False\n",
            "Image is not rotated upside down\n",
            "QR code is flipped.\n",
            "Top Left: (42, 43)\n",
            "Top Right: (968, 44)\n",
            "Bottom Left: (41, 969)\n",
            "Bottom Right: (966, 970)\n",
            "expected_x 2\n"
          ]
        },
        {
          "output_type": "display_data",
          "data": {
            "text/plain": [
              "<PIL.Image.Image image mode=L size=500x500>"
            ],
            "image/png": "[encoded data removed]"
          },
          "metadata": {}
        }
      ]
    },
    {
      "cell_type": "code",
      "source": [
        "for index, img in enumerate(all_images):\n",
        "  perspectiveDone = False\n",
        "  image=cv2.imread(img)\n",
        "\n",
        "  image, perspectiveDone=Preprocessing(image, perspectiveDone)\n",
        "  image=shifting_pixel(image)\n",
        "  image = cv2.resize(image, (500, 500))\n",
        "  if not perspectiveDone:\n",
        "    # print(\"ENTERED\")\n",
        "    image = after_preprocessing(image)\n",
        "\n",
        "  print(f\"Test case {index+1}\")\n",
        "  cv2_imshow(image)"
      ],
      "metadata": {
        "colab": {
          "base_uri": "https://localhost:8080/",
          "height": 1000
        },
        "id": "pFot14Y6zgOP",
        "outputId": "dc583e57-acb5-4266-e2d6-b1f572544f0f"
      },
      "execution_count": null,
      "outputs": [
        {
          "output_type": "stream",
          "name": "stdout",
          "text": [
            "Salt pepper False\n",
            "Periodic noise False\n",
            "Blurred False\n",
            "1317.5979486800109\n",
            "Image may benefit from histogram equalization\n",
            "Inversion not done\n",
            "Perspective not done\n",
            "False\n",
            "Image is not rotated upside down\n",
            "QR code is not flipped.\n",
            "Top Left: (46, 43)\n",
            "Top Right: (969, 45)\n",
            "Bottom Left: (43, 967)\n",
            "Bottom Right: (924, 969)\n",
            "expected_x 2\n",
            "Test case 1\n"
          ]
        },
        {
          "output_type": "display_data",
          "data": {
            "text/plain": [
              "<PIL.Image.Image image mode=L size=500x500>"
            ],
            "image/png": "[encoded data removed]"
          },
          "metadata": {}
        },
        {
          "output_type": "stream",
          "name": "stdout",
          "text": [
            "Salt pepper False\n",
            "Periodic noise False\n",
            "Blurred False\n",
            "1462.6042872188011\n",
            "Image may benefit from histogram equalization\n",
            "Inversion not done\n",
            "expected_x 22\n",
            "Test case 2\n"
          ]
        },
        {
          "output_type": "display_data",
          "data": {
            "text/plain": [
              "<PIL.Image.Image image mode=L size=500x500>"
            ],
            "image/png": "[encoded data removed]"
          },
          "metadata": {}
        },
        {
          "output_type": "stream",
          "name": "stdout",
          "text": [
            "Salt pepper False\n",
            "Periodic noise False\n",
            "Blurred False\n",
            "1335.0496250029485\n",
            "Image may benefit from histogram equalization\n",
            "Inversion not done\n",
            "Perspective not done\n",
            "False\n",
            "Image is rotated upside down\n",
            "QR code is not flipped.\n",
            "Top Left: (44, 41)\n",
            "Top Right: (967, 43)\n",
            "Bottom Left: (41, 965)\n",
            "Bottom Right: (922, 967)\n",
            "expected_x 2\n",
            "Test case 3\n"
          ]
        },
        {
          "output_type": "display_data",
          "data": {
            "text/plain": [
              "<PIL.Image.Image image mode=L size=500x500>"
            ],
            "image/png": "[encoded data removed]"
          },
          "metadata": {}
        },
        {
          "output_type": "stream",
          "name": "stdout",
          "text": [
            "Salt pepper False\n",
            "Periodic noise False\n",
            "Blurred False\n",
            "997.1555103004816\n",
            "Histogram is already well spread\n",
            "Inversion done\n",
            "Perspective not done\n",
            "False\n",
            "Image is not rotated upside down\n",
            "QR code is flipped.\n",
            "Top Left: (42, 43)\n",
            "Top Right: (968, 44)\n",
            "Bottom Left: (41, 969)\n",
            "Bottom Right: (966, 970)\n",
            "expected_x 2\n",
            "Test case 4\n"
          ]
        },
        {
          "output_type": "display_data",
          "data": {
            "text/plain": [
              "<PIL.Image.Image image mode=L size=500x500>"
            ],
            "image/png": "[encoded data removed]"
          },
          "metadata": {}
        },
        {
          "output_type": "stream",
          "name": "stdout",
          "text": [
            "Salt pepper False\n",
            "Periodic noise False\n",
            "Blurred False\n",
            "1100.5958831961134\n",
            "Histogram is already well spread\n",
            "Inversion not done\n",
            "expected_x 19\n",
            "Test case 5\n"
          ]
        },
        {
          "output_type": "display_data",
          "data": {
            "text/plain": [
              "<PIL.Image.Image image mode=L size=500x500>"
            ],
            "image/png": "[encoded data removed]"
          },
          "metadata": {}
        },
        {
          "output_type": "stream",
          "name": "stdout",
          "text": [
            "Salt pepper False\n",
            "Periodic noise False\n",
            "Blurred False\n",
            "2219.002506709381\n",
            "Histogram is already well spread\n",
            "Inversion not done\n",
            "Perspective done\n",
            "True\n",
            "Image is not rotated upside down\n",
            "QR code is not flipped.\n",
            "Top Left: (71, 95)\n",
            "Top Right: (979, 112)\n",
            "Bottom Left: (64, 951)\n",
            "Bottom Right: (967, 950)\n",
            "expected_x 4\n",
            "Test case 6\n"
          ]
        },
        {
          "output_type": "display_data",
          "data": {
            "text/plain": [
              "<PIL.Image.Image image mode=L size=500x500>"
            ],
            "image/png": "[encoded data removed]"
          },
          "metadata": {}
        },
        {
          "output_type": "stream",
          "name": "stdout",
          "text": [
            "Salt pepper False\n",
            "Periodic noise False\n",
            "Blurred False\n",
            "2465.2627450980394\n",
            "Histogram is already well spread\n",
            "Inversion not done\n",
            "expected_x 45\n",
            "Test case 7\n"
          ]
        },
        {
          "output_type": "display_data",
          "data": {
            "text/plain": [
              "<PIL.Image.Image image mode=L size=500x500>"
            ],
            "image/png": "[encoded data removed]"
          },
          "metadata": {}
        },
        {
          "output_type": "stream",
          "name": "stdout",
          "text": [
            "Salt pepper False\n",
            "Periodic noise False\n",
            "Blurred True\n",
            "1405.3270488157457\n",
            "Image may benefit from histogram equalization\n",
            "Inversion not done\n",
            "Perspective not done\n",
            "False\n",
            "Image is not rotated upside down\n",
            "QR code is not flipped.\n",
            "Top Left: (36, 51)\n",
            "Top Right: (953, 47)\n",
            "Bottom Left: (36, 51)\n",
            "Bottom Right: (952, 906)\n",
            "expected_x 1\n",
            "Test case 8\n"
          ]
        },
        {
          "output_type": "display_data",
          "data": {
            "text/plain": [
              "<PIL.Image.Image image mode=L size=500x500>"
            ],
            "image/png": "[encoded data removed]"
          },
          "metadata": {}
        },
        {
          "output_type": "stream",
          "name": "stdout",
          "text": [
            "Salt pepper False\n",
            "Periodic noise False\n",
            "Blurred False\n",
            "2199.6392156862744\n",
            "Image may benefit from histogram equalization\n",
            "Inversion not done\n",
            "expected_x 241\n",
            "Test case 9\n"
          ]
        },
        {
          "output_type": "display_data",
          "data": {
            "text/plain": [
              "<PIL.Image.Image image mode=L size=500x500>"
            ],
            "image/png": "[encoded data removed]"
          },
          "metadata": {}
        },
        {
          "output_type": "stream",
          "name": "stdout",
          "text": [
            "Salt pepper False\n",
            "Periodic noise True\n",
            "Blurred False\n",
            "131.72668667307084\n",
            "Histogram is already well spread\n",
            "Inversion not done\n",
            "expected_x 41\n",
            "Test case 10\n"
          ]
        },
        {
          "output_type": "display_data",
          "data": {
            "text/plain": [
              "<PIL.Image.Image image mode=L size=500x500>"
            ],
            "image/png": "[encoded data removed]"
          },
          "metadata": {}
        },
        {
          "output_type": "stream",
          "name": "stdout",
          "text": [
            "Salt pepper True\n",
            "Periodic noise False\n",
            "Blurred False\n",
            "1281.0671114302556\n",
            "Histogram is already well spread\n",
            "Inversion not done\n",
            "Perspective not done\n",
            "False\n",
            "Image is not rotated upside down\n",
            "QR code is not flipped.\n",
            "Top Left: (52, 44)\n",
            "Top Right: (966, 86)\n",
            "Bottom Left: (39, 95)\n",
            "Bottom Right: (921, 968)\n",
            "expected_x 6\n",
            "Test case 11\n"
          ]
        },
        {
          "output_type": "display_data",
          "data": {
            "text/plain": [
              "<PIL.Image.Image image mode=L size=500x500>"
            ],
            "image/png": "[encoded data removed]"
          },
          "metadata": {}
        },
        {
          "output_type": "stream",
          "name": "stdout",
          "text": [
            "Salt pepper False\n",
            "Periodic noise False\n",
            "Blurred False\n",
            "1368.922179835158\n",
            "Image may benefit from histogram equalization\n",
            "Inversion not done\n",
            "expected_x 45\n",
            "Test case 12\n"
          ]
        },
        {
          "output_type": "display_data",
          "data": {
            "text/plain": [
              "<PIL.Image.Image image mode=L size=500x500>"
            ],
            "image/png": "[encoded data removed]"
          },
          "metadata": {}
        }
      ]
    },
    {
      "cell_type": "markdown",
      "source": [
        "# Decoder"
      ],
      "metadata": {
        "id": "j8_FXnjrEjs9"
      }
    },
    {
      "cell_type": "code",
      "source": [
        "import cv2\n",
        "import numpy as np\n",
        "import matplotlib.pyplot as plt\n",
        "!pip install --upgrade reedsolo\n",
        "import reedsolo as rs"
      ],
      "metadata": {
        "id": "8KQcsRYqwcbQ",
        "colab": {
          "base_uri": "https://localhost:8080/"
        },
        "outputId": "0dfe447b-1dfd-4d9e-b920-64086faa4dde"
      },
      "execution_count": null,
      "outputs": [
        {
          "output_type": "stream",
          "name": "stdout",
          "text": [
            "Requirement already satisfied: reedsolo in /usr/local/lib/python3.10/dist-packages (1.7.0)\n"
          ]
        }
      ]
    },
    {
      "cell_type": "code",
      "source": [
        "img = cv2.cvtColor(image, cv2.COLOR_RGB2BGR)\n",
        "fig = plt.figure(figsize=(5, 5));\n",
        "plt.xticks([], []);\n",
        "plt.yticks([], []);\n",
        "plt.title('Example QR code (original RGB)')\n",
        "plt.imshow(img, cmap='gray');"
      ],
      "metadata": {
        "colab": {
          "base_uri": "https://localhost:8080/",
          "height": 444
        },
        "id": "2_-rY9LEFugx",
        "outputId": "4f4248df-46ef-46fe-9290-af30fc7bde1c"
      },
      "execution_count": null,
      "outputs": [
        {
          "output_type": "display_data",
          "data": {
            "text/plain": [
              "<Figure size 500x500 with 1 Axes>"
            ],
            "image/png": "[encoded data removed]"
          },
          "metadata": {}
        }
      ]
    },
    {
      "cell_type": "code",
      "source": [
        "img = cv2.cvtColor(img, cv2.COLOR_RGB2GRAY)\n",
        "_, img3 = cv2.threshold(img, 142, 255, cv2.THRESH_BINARY)\n",
        "fig = plt.figure(figsize=(5, 5));\n",
        "plt.xticks([], []);\n",
        "plt.yticks([], []);\n",
        "plt.title('Example QR code (grayscale, thresholded)')\n",
        "# resized_image = cv2.resize(img, (21, 21))\n",
        "plt.imshow(img, cmap='gray');"
      ],
      "metadata": {
        "colab": {
          "base_uri": "https://localhost:8080/",
          "height": 444
        },
        "id": "8gN-0_6MJBqK",
        "outputId": "dc7d88ef-2f9b-4eb9-9ea5-56f6ef50b2fb"
      },
      "execution_count": null,
      "outputs": [
        {
          "output_type": "display_data",
          "data": {
            "text/plain": [
              "<Figure size 500x500 with 1 Axes>"
            ],
            "image/png": "[encoded data removed]"
          },
          "metadata": {}
        }
      ]
    },
    {
      "cell_type": "code",
      "source": [
        "start_row = -1\n",
        "start_col = -1\n",
        "end_row = -1\n",
        "end_col = -1\n",
        "\n",
        "fig = plt.figure(figsize=(5, 5));\n",
        "plt.xticks([], []);\n",
        "plt.yticks([], []);\n",
        "plt.imshow(img3, cmap='gray');\n",
        "for row_index, row in enumerate(img3):\n",
        "    for pixel in row:\n",
        "        if pixel != 255:\n",
        "            start_row = row_index\n",
        "            break\n",
        "    if start_row != -1:\n",
        "        break\n",
        "\n",
        "for row_index, row in enumerate(img3[::-1]):\n",
        "    for pixel in row:\n",
        "        if pixel != 255:\n",
        "            end_row = img3.shape[0] - row_index\n",
        "            break\n",
        "    if end_row != -1:\n",
        "        break\n",
        "\n",
        "for col_index, col in enumerate(cv2.transpose(img3)):\n",
        "    for pixel in col:\n",
        "        if pixel != 255:\n",
        "            start_col = col_index\n",
        "            break\n",
        "    if start_col != -1:\n",
        "        break\n",
        "\n",
        "for col_index, col in enumerate(cv2.transpose(img3)[::-1]):\n",
        "    for pixel in col:\n",
        "        if pixel != 255:\n",
        "            end_col = img3.shape[1] - col_index\n",
        "            break\n",
        "    if end_col != -1:\n",
        "        break\n",
        "\n",
        "img3_no_quiet_zone = img3[start_row:end_row, start_col:end_col]\n",
        "\n",
        "print(start_row, end_row, start_col, end_col)\n",
        "\n",
        "# while(((end_col - start_col) % 21) !=0):\n",
        "#   end_col =end_col -1\n",
        "\n",
        "\n",
        "# while(((end_row - start_row) % 21) !=0):\n",
        "#   start_row =start_row -1\n",
        "\n",
        "# print(end_col)\n",
        "\n",
        "\n",
        "width = end_col - start_col\n",
        "height = end_row - start_row\n",
        "\n",
        "# Print the size of each side\n",
        "print(\"Width:\", width)\n",
        "print(\"Height:\", height)\n",
        "diff= abs(width - height)\n",
        "print(\"difference between height and width\",diff)\n",
        "row=min(width , height)\n",
        "print('min side' , row)\n",
        "\n",
        "if(diff<20):\n",
        "\n",
        "    if (width < height):\n",
        "      start_col=start_col - diff\n",
        "    else:\n",
        "      start_row=start_row - diff\n",
        "\n",
        "\n",
        "\n",
        "fig = plt.figure(figsize=(5, 5));\n",
        "plt.xticks([], []);\n",
        "plt.yticks([], []);\n",
        "img3=img3[start_col:end_col, start_row:end_row]\n",
        "plt.imshow(img3, cmap= 'gray');\n",
        "\n",
        "\n",
        "width = end_col - start_col\n",
        "height = end_row - start_row\n",
        "\n",
        "# Calculate the maximum size from the four sides\n",
        "size = max(width,height)\n",
        "print(\"Size of QR code:\", size)\n",
        "\n",
        "\n",
        "grid_cell_size = round(size/21)\n",
        "# grid_cell_size=1\n",
        "print('grid_cell_size : ',grid_cell_size)\n",
        "\n",
        "\n",
        "grid_cells_num =21\n",
        "\n",
        "\n",
        "desired_dim = grid_cells_num * grid_cell_size\n",
        "\n",
        "\n",
        "\n",
        "# Alternative method to get the grid directly\n",
        "# I directly resize it to 21x21 and use something like the replacement downscaling geometric transformation\n",
        "# So for each collection of pixels, only one pixel survives, and since this is a perfect test case, it works\n",
        "# In non-perfect test cases, you'd have needed to do some more steps to ensure correct replacement is done\n",
        "img3_21x21_grid = cv2.resize(img3, (desired_dim, desired_dim), interpolation=cv2.INTER_AREA)\n",
        "fig = plt.figure(figsize=(5, 5));\n",
        "plt.xticks([], []);\n",
        "plt.yticks([], []);\n",
        "plt.imshow(img3_21x21_grid, cmap='gray');\n",
        "_, img3_21x21_grid = cv2.threshold(img3_21x21_grid, 80, 255, cv2.THRESH_BINARY);\n",
        "# _, qr_no_quiet_zone = cv2.threshold(img3_21x21_grid, 105, 255, cv2.THRESH_BINARY);\n",
        "\n",
        "fig = plt.figure(figsize=(5, 5));\n",
        "plt.xticks([], []);\n",
        "plt.yticks([], []);\n",
        "plt.imshow(img3_21x21_grid, cmap='gray');\n",
        "print(img3_21x21_grid.shape)\n",
        "\n",
        "# Print the size of each side\n",
        "print(\"Width:\", width)\n",
        "print(\"Height:\", height)\n"
      ],
      "metadata": {
        "colab": {
          "base_uri": "https://localhost:8080/",
          "height": 1000
        },
        "id": "y1OJuAFuE7Vm",
        "outputId": "b7a6ec81-9c7f-44dc-b975-23c60a63491c"
      },
      "execution_count": null,
      "outputs": [
        {
          "output_type": "stream",
          "name": "stdout",
          "text": [
            "1 499 1 499\n",
            "Width: 498\n",
            "Height: 498\n",
            "difference between height and width 0\n",
            "min side 498\n",
            "Size of QR code: 498\n",
            "grid_cell_size :  24\n",
            "(504, 504)\n",
            "Width: 498\n",
            "Height: 498\n"
          ]
        },
        {
          "output_type": "display_data",
          "data": {
            "text/plain": [
              "<Figure size 500x500 with 1 Axes>"
            ],
            "image/png": "[encoded data removed]"
          },
          "metadata": {}
        },
        {
          "output_type": "display_data",
          "data": {
            "text/plain": [
              "<Figure size 500x500 with 1 Axes>"
            ],
            "image/png": "[encoded data removed]"
          },
          "metadata": {}
        },
        {
          "output_type": "display_data",
          "data": {
            "text/plain": [
              "<Figure size 500x500 with 1 Axes>"
            ],
            "image/png": "[encoded data removed]"
          },
          "metadata": {}
        },
        {
          "output_type": "display_data",
          "data": {
            "text/plain": [
              "<Figure size 500x500 with 1 Axes>"
            ],
            "image/png": "[encoded data removed]"
          },
          "metadata": {}
        }
      ]
    },
    {
      "cell_type": "code",
      "source": [
        "qr_no_quiet_zone=img3_21x21_grid"
      ],
      "metadata": {
        "id": "aUssfEfTE-BO"
      },
      "execution_count": null,
      "outputs": []
    },
    {
      "cell_type": "code",
      "source": [
        "qr_cells = qr_no_quiet_zone.reshape((\n",
        "    grid_cells_num,\n",
        "    grid_cell_size,\n",
        "    grid_cells_num,\n",
        "    grid_cell_size,\n",
        ")).swapaxes(1, 2)\n",
        "print(qr_cells.shape)"
      ],
      "metadata": {
        "colab": {
          "base_uri": "https://localhost:8080/"
        },
        "id": "bIuEWX6mE_Hj",
        "outputId": "d04cb164-329a-4cf2-b334-bec90b7f3238"
      },
      "execution_count": null,
      "outputs": [
        {
          "output_type": "stream",
          "name": "stdout",
          "text": [
            "(21, 21, 24, 24)\n"
          ]
        }
      ]
    },
    {
      "cell_type": "code",
      "source": [
        "_, axes = plt.subplots(grid_cells_num, grid_cells_num, figsize=(5, 5))\n",
        "for i, row in enumerate(axes):\n",
        "    for j, col in enumerate(row):\n",
        "        col.imshow(qr_cells[i][j], cmap=\"gray\", vmin=0, vmax=255)\n",
        "        col.get_xaxis().set_visible(False)\n",
        "        col.get_yaxis().set_visible(False)\n",
        "        col.spines[:].set_color('red')"
      ],
      "metadata": {
        "colab": {
          "base_uri": "https://localhost:8080/",
          "height": 422
        },
        "id": "76B0UcD7FAWY",
        "outputId": "edc32e9c-6429-4285-f30d-0fb55c7bee7e"
      },
      "execution_count": null,
      "outputs": [
        {
          "output_type": "display_data",
          "data": {
            "text/plain": [
              "<Figure size 500x500 with 441 Axes>"
            ],
            "image/png": "[encoded data removed]"
          },
          "metadata": {}
        }
      ]
    },
    {
      "cell_type": "code",
      "source": [
        "qr_cells_numeric = np.ndarray((grid_cells_num, grid_cells_num), dtype=np.uint8)\n",
        "for i, row in enumerate(qr_cells):\n",
        "    for j, cell in enumerate(row):\n",
        "        qr_cells_numeric[i, j] = (np.median(cell) // 255)\n",
        "\n",
        "print(qr_cells_numeric)"
      ],
      "metadata": {
        "colab": {
          "base_uri": "https://localhost:8080/"
        },
        "id": "4i1LTCUHFCMl",
        "outputId": "d33baf08-9745-45c9-b449-1db9b461ec0e"
      },
      "execution_count": null,
      "outputs": [
        {
          "output_type": "stream",
          "name": "stdout",
          "text": [
            "[[0 0 0 0 0 0 0 1 0 0 1 0 1 1 0 0 0 0 0 0 0]\n",
            " [0 1 1 1 1 1 0 1 0 1 1 0 1 1 0 1 1 1 1 1 0]\n",
            " [0 1 0 0 0 1 0 1 1 1 0 1 0 1 0 1 0 0 0 1 0]\n",
            " [0 1 0 0 0 1 0 1 1 1 0 0 1 1 0 1 0 0 0 1 0]\n",
            " [0 1 0 0 0 1 0 1 0 1 0 0 1 1 0 1 0 0 0 1 0]\n",
            " [0 1 1 1 1 1 0 1 0 0 1 0 1 1 0 1 1 1 1 1 0]\n",
            " [0 0 0 0 0 0 0 1 0 1 0 1 0 1 0 0 0 0 0 0 0]\n",
            " [1 1 1 1 1 1 1 1 0 1 1 1 1 1 1 1 1 1 1 1 1]\n",
            " [0 0 0 1 1 0 0 1 0 0 0 0 1 0 0 0 0 1 1 0 0]\n",
            " [0 1 1 1 0 0 1 1 0 0 1 1 0 1 0 1 0 0 0 1 0]\n",
            " [0 1 1 0 0 0 0 1 1 0 1 1 0 1 0 1 0 0 0 1 0]\n",
            " [0 0 0 0 1 0 1 0 0 0 0 1 1 0 1 0 1 0 1 1 0]\n",
            " [0 1 1 0 0 0 0 1 0 1 0 0 0 1 1 1 1 0 1 0 0]\n",
            " [1 1 1 1 1 1 1 1 0 1 1 1 0 1 1 1 0 1 1 1 1]\n",
            " [0 0 0 0 0 0 0 1 1 1 1 0 0 0 1 1 0 1 0 1 0]\n",
            " [0 1 1 1 1 1 0 1 0 1 0 1 0 0 1 1 1 0 1 0 1]\n",
            " [0 1 0 0 0 1 0 1 1 0 1 0 0 1 1 0 0 0 1 0 0]\n",
            " [0 1 0 0 0 1 0 1 1 0 1 0 0 1 1 1 0 1 1 0 1]\n",
            " [0 1 0 0 0 1 0 1 0 0 0 1 0 0 1 0 0 1 1 0 0]\n",
            " [0 1 1 1 1 1 0 1 0 0 0 0 0 0 1 0 0 0 1 1 1]\n",
            " [0 0 0 0 0 0 0 1 0 1 1 1 1 0 1 0 1 0 1 1 0]]\n"
          ]
        }
      ]
    },
    {
      "cell_type": "code",
      "source": [
        "# We want row #8\n",
        "row=np.flip(qr_cells_numeric[:, 8])"
      ],
      "metadata": {
        "id": "iSSUlyVFFDuR"
      },
      "execution_count": null,
      "outputs": []
    },
    {
      "cell_type": "code",
      "source": [
        "# The first two bits determine the error correction level\n",
        "# Level L (Low)         [11]\t7%  of data bytes can be restored.\n",
        "# Level M (Medium)      [10]\t15% of data bytes can be restored.\n",
        "# Level Q (Quartile)    [01]\t25% of data bytes can be restored.\n",
        "# Level H (High)        [00]\t30% of data bytes can be restored.\n",
        "ecl = [int(not(c)) for c in row[ 0:2]]\n",
        "# Why \"not\"? Because the standard uses '1's for black and '0's for white\n",
        "#\n",
        "# \"A dark module is a binary one and a light module is a binary zero.\"\n",
        "#  - ISO/IEC 18004:2000(E)\n",
        "#\n",
        "# In image processing, we use them the other way.. Hence the inversion\n",
        "print(ecl)"
      ],
      "metadata": {
        "colab": {
          "base_uri": "https://localhost:8080/"
        },
        "id": "ETPeYs1CFE6s",
        "outputId": "a447d2f3-df56-42d2-feef-5b395d2f0657"
      },
      "execution_count": null,
      "outputs": [
        {
          "output_type": "stream",
          "name": "stdout",
          "text": [
            "[1, 1]\n"
          ]
        }
      ]
    },
    {
      "cell_type": "code",
      "source": [
        "# Dictionary of all masks and their equivalent formulae\n",
        "MASKS = {\n",
        "    \"000\": lambda i, j: (i * j) % 2 + (i * j) % 3 == 0,\n",
        "    \"001\": lambda i, j: (i // 2 + j // 3) % 2 == 0,\n",
        "    \"010\": lambda i, j: ((i + j) % 2 + (i * j) % 3) % 2 == 0,\n",
        "    \"011\": lambda i, j: ((i * j) % 2 + (i * j) % 3) % 2 == 0,\n",
        "    \"100\": lambda i, j: i % 2 == 0,\n",
        "    \"101\": lambda i, j: (i + j) % 2 == 0,\n",
        "    \"110\": lambda i, j: (i + j) % 3 == 0,\n",
        "    \"111\": lambda i, j: j % 3 == 0,\n",
        "}\n",
        "\n",
        "# Same row as above, the three cells after the ecl cells (converted to a string)\n",
        "mask = [int(not(c)) for c in row[ 2:5]]\n",
        "mask_str = ''.join([str(c) for c in mask])\n",
        "print(mask_str)\n"
      ],
      "metadata": {
        "colab": {
          "base_uri": "https://localhost:8080/"
        },
        "id": "qODBQ_DFFGIF",
        "outputId": "f5978ebe-e379-449a-8d09-19aeb0014b2d"
      },
      "execution_count": null,
      "outputs": [
        {
          "output_type": "stream",
          "name": "stdout",
          "text": [
            "100\n"
          ]
        }
      ]
    },
    {
      "cell_type": "code",
      "source": [
        "UP8, UP4, DOWN8, DOWN4, CW8, CCW8 = range(6)\n",
        "# A more general apply_mask function (still works the same way)\n",
        "def apply_mask_general(data_start_i, data_start_j, data, mask, direction):\n",
        "    result = []\n",
        "    row_offsets = []\n",
        "    col_offsets = []\n",
        "    mask_str = ''.join([str(c) for c in mask])\n",
        "    if (direction in [UP8, UP4]):\n",
        "        row_offsets = [0,  0, -1, -1, -2, -2, -3, -3]\n",
        "        col_offsets = [0, -1,  0, -1,  0, -1,  0, -1]\n",
        "    if (direction in [DOWN8, DOWN4]):\n",
        "        row_offsets = [0,  0,  1,  1,  2,  2,  3,  3]\n",
        "        col_offsets = [0, -1,  0, -1,  0, -1,  0, -1]\n",
        "    if (direction == CW8):\n",
        "        row_offsets = [0,  0,  1,  1,  1,  1,  0,  0]\n",
        "        col_offsets = [0, -1,  0, -1, -2, -3, -2, -3]\n",
        "    if (direction == CCW8):\n",
        "        row_offsets = [0,  0, -1, -1, -1, -1,  0,  0]\n",
        "        col_offsets = [0, -1,  0, -1, -2, -3, -2, -3]\n",
        "    for i, j in zip(row_offsets, col_offsets):\n",
        "        cell_bit = bool(data[data_start_i+i, data_start_j+j])\n",
        "        mask_bit = MASKS[mask_str](data_start_i+i, data_start_j+j)\n",
        "        # Modules corresponding to the dark areas of the mask are inverted.\n",
        "        result.append(int(not cell_bit if mask_bit else cell_bit))\n",
        "        # result.append(cell_bit if mask_bit else 1 - cell_bit)\n",
        "    return result[:4] if direction in [UP4, DOWN4] else result\n",
        "\n",
        "qr_cells_numeric = 1- qr_cells_numeric\n",
        "enc_bits = apply_mask_general(grid_cells_num-1, grid_cells_num-1, qr_cells_numeric, mask, UP8)[:4]\n",
        "print(enc_bits)\n",
        "\n",
        "len_bits = apply_mask_general(21-3, 21-1, qr_cells_numeric, mask, UP8)\n",
        "len_int = int(''.join([str(bit) for bit in len_bits]), 2)\n",
        "print(f'{len_bits} = {len_int} data symbols, each consisting of 8 bits')\n",
        "\n",
        "block_starting_indices = [\n",
        "    [21-7,  21-1,  UP8],\n",
        "    [21-11, 21-1,  CCW8],\n",
        "    [21-10, 21-3,  DOWN8],\n",
        "    [21-6,  21-3,  DOWN8],\n",
        "    [21-2,  21-3,  CW8],\n",
        "    [21-3,  21-5,  UP8],\n",
        "    [21-7,  21-5,  UP8],\n",
        "    [21-11, 21-5,  CCW8],\n",
        "    [21-10, 21-7,  DOWN8],\n",
        "    [21-6,  21-7,  DOWN8],\n",
        "    [21-2,  21-7,  CW8],\n",
        "    [21-3,  21-9,  UP8],\n",
        "    [21-7,  21-9,  UP8],\n",
        "    [21-11, 21-9,  UP8],\n",
        "    [21-16, 21-9,  UP8],\n",
        "    [21-20, 21-9,  CCW8],\n",
        "    [21-19, 21-11, DOWN8],\n",
        "    [21-14, 21-11, DOWN4],  # Special 4-byte block, reserved for END (if exists!)\n",
        "    [21-12, 21-11, DOWN8],\n",
        "    [21-8,  21-11, DOWN8],\n",
        "    [21-4,  21-11, DOWN8],\n",
        "    [21-9,  21-13, UP8],\n",
        "    [21-12, 21-16, DOWN8],\n",
        "    [21-9,  21-18, UP8],\n",
        "    [21-12, 21-20, DOWN8],\n",
        "]"
      ],
      "metadata": {
        "colab": {
          "base_uri": "https://localhost:8080/"
        },
        "id": "5rPsNXA2FLmQ",
        "outputId": "ab558435-f95e-4095-c6df-7f70ed17a74b"
      },
      "execution_count": null,
      "outputs": [
        {
          "output_type": "stream",
          "name": "stdout",
          "text": [
            "[0, 1, 0, 0]\n",
            "[0, 0, 0, 1, 0, 0, 0, 1] = 17 data symbols, each consisting of 8 bits\n"
          ]
        }
      ]
    },
    {
      "cell_type": "code",
      "source": [
        "message_bits = []\n",
        "message_bits.extend(enc_bits)\n",
        "message_bits.extend(len_bits)\n",
        "# Let me re-format this for better readability :)\n",
        "# First, let's read the data bytes, starting from the very first byte after enc and len\n",
        "byte_index = 0\n",
        "for _ in range(len_int):\n",
        "    start_i, start_j, dir = block_starting_indices[byte_index]\n",
        "    bits = apply_mask_general(start_i, start_j, qr_cells_numeric, mask, dir)\n",
        "    message_bits.extend(bits)\n",
        "    print(bits)\n",
        "    bit_string = ''.join([str(bit) for bit in bits])\n",
        "    alpha_char = chr(int(bit_string, 2))\n",
        "    print(f'{bit_string} (={int(bit_string, 2):03d}) = {alpha_char}')\n",
        "    byte_index += 1\n",
        "\n",
        "# After finishing all the characters, the next 4 bits are expected to be '0000'\n",
        "start_i, start_j, dir = block_starting_indices[byte_index]\n",
        "bits = apply_mask_general(start_i, start_j, qr_cells_numeric, mask, dir)\n",
        "message_bits.extend(bits)\n",
        "# print(bits)\n",
        "byte_index += 1\n",
        "\n",
        "# print(byte_index)\n",
        "\n",
        "for _ in range(25-len_int-1):\n",
        "    start_i, start_j, dir = block_starting_indices[byte_index]\n",
        "    bits = apply_mask_general(start_i, start_j, qr_cells_numeric, mask, dir)\n",
        "    message_bits.extend(bits)\n",
        "    bit_string = ''.join([str(bit) for bit in bits])\n",
        "    alpha_char = chr(int(bit_string, 2))\n",
        "    print(f'{bit_string} (={int(bit_string, 2):03d}) = {alpha_char}')\n",
        "    byte_index += 1\n",
        "\n",
        "# print('bit string: ', bit_string)\n",
        "# print('bits: ', bits)\n",
        "# For every 8 bits in the extracted message, convert to a byte\n",
        "message_bytes = [int(\"\".join(map(str, message_bits[i:i+8])), 2) for i in range(0, len(message_bits), 8)]\n",
        "ecl_str = ''.join([str(bit) for bit in ecl])  # Convert the list to a binary string\n",
        "print(ecl_str)\n",
        "ecl_int = int(ecl_str, 2)  # Convert the binary string to an integer\n",
        "print(ecl_int)\n",
        "if ecl_int == 3:\n",
        "    mapped_value = 7\n",
        "elif ecl_int == 2:\n",
        "    mapped_value = 15\n",
        "elif ecl_int == 1:\n",
        "    mapped_value = 25\n",
        "else:  # ecl_int == 0\n",
        "    mapped_value = 30\n",
        "\n",
        "print('reedsolomon level: ',mapped_value)\n",
        "# Create the Reed-Solomon Codec for 7 ECC symbols (again, this is L)\n",
        "rsc = rs.RSCodec(nsym=mapped_value)\n",
        "\n",
        "message_decoded = rsc.decode(message_bytes)\n",
        "rsc.maxerrata(verbose=True)\n",
        "\n",
        "# In order to extract the actual data, need to convert back to bits\n",
        "# Then take as many bytes as indicated by the message length indicator\n",
        "# That is AFTER removing the first 12 bytes (of enc and len)\n",
        "\n",
        "\n",
        "if(enc_bits== [0, 0, 1, 0]):\n",
        "    data_bits = bin(int.from_bytes(message_decoded[0], byteorder='big'))[13:13+len_int*12]\n",
        "    # print('data bits: ',data_bits)\n",
        "    alphanumeric_table = {\n",
        "        0: '0', 1: '1', 2: '2', 3: '3', 4: '4', 5: '5', 6: '6', 7: '7', 8: '8', 9: '9',\n",
        "        10: 'A', 11: 'B', 12: 'C', 13: 'D', 14: 'E', 15: 'F', 16: 'G', 17: 'H', 18: 'I',\n",
        "        19: 'J', 20: 'K', 21: 'L', 22: 'M', 23: 'N', 24: 'O', 25: 'P', 26: 'Q', 27: 'R',\n",
        "        28: 'S', 29: 'T', 30: 'U', 31: 'V', 32: 'W', 33: 'X', 34: 'Y', 35: 'Z', 36: ' ',\n",
        "        37: '$', 38: '%', 39: '*', 40: '+', 41: '-', 42: '.', 43: '/', 44: ':'\n",
        "    }\n",
        "\n",
        "    # Convert binary string to decimal values\n",
        "    decimal_values = [int(data_bits[i:i+11], 2) for i in range(0, len(data_bits)-len_int, 11)]\n",
        "    decimal_values1 = [int(data_bits[i:i+6], 2) for i in range(len(data_bits)-len_int, len(data_bits), 11)]\n",
        "\n",
        "    # print(decimal_values)\n",
        "\n",
        "    def find_xy_pairs(max_value, target):\n",
        "        results = []\n",
        "        for x in range(max_value + 1):\n",
        "            y = target - 45 * x\n",
        "            if 0 <= y <= max_value:\n",
        "                results.append((x, y))\n",
        "\n",
        "        return results\n",
        "\n",
        "    decoded_string=\"\"\n",
        "    for decimal in decimal_values:\n",
        "        # print(decimal)\n",
        "        # print(alphanumeric_table.get(find_xy_pairs(44,decimal)[0][0]))\n",
        "        # print(alphanumeric_table.get(find_xy_pairs(44,decimal)[0][1], \"\"))\n",
        "        decoded_string += alphanumeric_table.get(find_xy_pairs(44,decimal)[0][0], \"\") + alphanumeric_table.get(find_xy_pairs(44,decimal)[0][1], \"\")\n",
        "\n",
        "    for decimal in decimal_values1:\n",
        "        decoded_string += alphanumeric_table.get(find_xy_pairs(44,decimal)[0][1], \"\")\n",
        "\n",
        "    print(\"Decoded Alphanumeric String:\", decoded_string)\n",
        "else:\n",
        "    data_bits = bin(int.from_bytes(message_decoded[0], byteorder='big'))[13:13+len_int*8]\n",
        "    data_bytes = int(data_bits, 2).to_bytes((len(data_bits)+7)//8, 'big')\n",
        "    print(f'Data in message = \"{data_bytes.decode(encoding=\"iso-8859-1\")}\"')\n",
        "\n"
      ],
      "metadata": {
        "colab": {
          "base_uri": "https://localhost:8080/"
        },
        "id": "sVxu5ExtFNNu",
        "outputId": "c898c53a-bb10-46ee-cc81-ad0c4911991b"
      },
      "execution_count": null,
      "outputs": [
        {
          "output_type": "stream",
          "name": "stdout",
          "text": [
            "[0, 1, 0, 0, 0, 0, 1, 0]\n",
            "01000010 (=066) = B\n",
            "[0, 1, 1, 0, 1, 1, 0, 0]\n",
            "01101100 (=108) = l\n",
            "[0, 1, 1, 0, 0, 0, 0, 1]\n",
            "01100001 (=097) = a\n",
            "[0, 1, 1, 0, 0, 0, 1, 1]\n",
            "01100011 (=099) = c\n",
            "[0, 1, 1, 0, 1, 0, 1, 1]\n",
            "01101011 (=107) = k\n",
            "[0, 0, 1, 0, 0, 0, 0, 0]\n",
            "00100000 (=032) =  \n",
            "[0, 1, 1, 0, 1, 1, 0, 1]\n",
            "01101101 (=109) = m\n",
            "[0, 1, 1, 0, 1, 0, 0, 1]\n",
            "01101001 (=105) = i\n",
            "[0, 1, 1, 1, 0, 0, 1, 0]\n",
            "01110010 (=114) = r\n",
            "[0, 1, 1, 1, 0, 0, 1, 0]\n",
            "01110010 (=114) = r\n",
            "[0, 1, 1, 0, 1, 1, 1, 1]\n",
            "01101111 (=111) = o\n",
            "[0, 1, 1, 1, 0, 0, 1, 0]\n",
            "01110010 (=114) = r\n",
            "[0, 0, 1, 0, 0, 0, 0, 0]\n",
            "00100000 (=032) =  \n",
            "[0, 1, 1, 0, 1, 0, 0, 0]\n",
            "01101000 (=104) = h\n",
            "[0, 1, 1, 0, 0, 1, 0, 1]\n",
            "01100101 (=101) = e\n",
            "[0, 1, 1, 0, 1, 0, 0, 0]\n",
            "01101000 (=104) = h\n",
            "[0, 1, 1, 0, 0, 1, 0, 1]\n",
            "01100101 (=101) = e\n",
            "01101101 (=109) = m\n",
            "00111010 (=058) = :\n",
            "01001111 (=079) = O\n",
            "01111110 (=126) = ~\n",
            "11001000 (=200) = È\n",
            "01110100 (=116) = t\n",
            "01101110 (=110) = n\n",
            "11\n",
            "3\n",
            "reedsolomon level:  7\n",
            "This codec can correct up to 3 errors and 7 erasures independently\n",
            "Data in message = \"Black mirror hehe\"\n"
          ]
        }
      ]
    },
    {
      "cell_type": "markdown",
      "source": [
        "## Decoder Output"
      ],
      "metadata": {
        "id": "2p90XsVDtSG3"
      }
    },
    {
      "cell_type": "code",
      "source": [],
      "metadata": {
        "id": "Lmt0OHPpFxb2"
      },
      "execution_count": null,
      "outputs": []
    }
  ]
}